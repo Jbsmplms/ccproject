{
 "cells": [
  {
   "cell_type": "markdown",
   "id": "1afce152",
   "metadata": {},
   "source": [
    "# **📜 Cloud Computing Final Project Notebook** <br>\n",
    "\n",
    "\n",
    "**Members:** <br>\n",
    "Barrio, Reyjane Mae <br>\n",
    "Basa, Ma. Sophia <br>\n",
    "Padillo, Rodmar Kent <br>\n",
    "Palmes, Jhibsam <br>\n",
    "Raluto, Kier Daniel <br>\n",
    "Tapao, Mark Vincent\n",
    "<br>\n",
    "<br>\n",
    "**Course:** DS323 - Cloud Computing <br/>\n",
    "**Program & Section:** BS in Data Science - DS3A"
   ]
  },
  {
   "cell_type": "markdown",
   "id": "f1a8c876",
   "metadata": {},
   "source": [
    "**Dataset Citations:** <br>\n",
    "\n",
    "Pandey, P. (2020). Palmer Archipelago (Antarctica) penguin data. <a href=\"https://www.kaggle.com/datasets/parulpandey/palmer-archipelago-antarctica-penguin-data\">Kaggle.com.</a> <br>\n",
    "Gorman KB, Williams TD, Fraser WR (2014) Ecological Sexual Dimorphism and Environmental Variability within a Community of Antarctic Penguins (Genus Pygoscelis). PLoS ONE 9(3): e90081. doi:10.1371/journal.pone.0090081"
   ]
  },
  {
   "cell_type": "markdown",
   "id": "3a4be006",
   "metadata": {},
   "source": [
    "## **Importing Libraries**"
   ]
  },
  {
   "cell_type": "code",
   "execution_count": 30,
   "id": "2e78502a",
   "metadata": {},
   "outputs": [],
   "source": [
    "import numpy as np\n",
    "import pandas as pd\n",
    "import matplotlib.pyplot as plt\n",
    "import seaborn as sns\n",
    "\n",
    "from sklearn.model_selection import train_test_split as tts\n",
    "import sklearn.ensemble as ensemble\n",
    "from sklearn.metrics import accuracy_score, classification_report\n",
    "\n",
    "from imblearn.over_sampling import SMOTE\n",
    "\n",
    "import warnings\n",
    "warnings.filterwarnings(\"ignore\")"
   ]
  },
  {
   "cell_type": "code",
   "execution_count": 31,
   "id": "0e9f5af6",
   "metadata": {},
   "outputs": [
    {
     "data": {
      "text/html": [
       "<div>\n",
       "<style scoped>\n",
       "    .dataframe tbody tr th:only-of-type {\n",
       "        vertical-align: middle;\n",
       "    }\n",
       "\n",
       "    .dataframe tbody tr th {\n",
       "        vertical-align: top;\n",
       "    }\n",
       "\n",
       "    .dataframe thead th {\n",
       "        text-align: right;\n",
       "    }\n",
       "</style>\n",
       "<table border=\"1\" class=\"dataframe\">\n",
       "  <thead>\n",
       "    <tr style=\"text-align: right;\">\n",
       "      <th></th>\n",
       "      <th>species</th>\n",
       "      <th>island</th>\n",
       "      <th>culmen_length_mm</th>\n",
       "      <th>culmen_depth_mm</th>\n",
       "      <th>flipper_length_mm</th>\n",
       "      <th>body_mass_g</th>\n",
       "      <th>sex</th>\n",
       "    </tr>\n",
       "  </thead>\n",
       "  <tbody>\n",
       "    <tr>\n",
       "      <th>0</th>\n",
       "      <td>Adelie</td>\n",
       "      <td>Torgersen</td>\n",
       "      <td>39.1</td>\n",
       "      <td>18.7</td>\n",
       "      <td>181.0</td>\n",
       "      <td>3750.0</td>\n",
       "      <td>MALE</td>\n",
       "    </tr>\n",
       "    <tr>\n",
       "      <th>1</th>\n",
       "      <td>Adelie</td>\n",
       "      <td>Torgersen</td>\n",
       "      <td>39.5</td>\n",
       "      <td>17.4</td>\n",
       "      <td>186.0</td>\n",
       "      <td>3800.0</td>\n",
       "      <td>FEMALE</td>\n",
       "    </tr>\n",
       "    <tr>\n",
       "      <th>2</th>\n",
       "      <td>Adelie</td>\n",
       "      <td>Torgersen</td>\n",
       "      <td>40.3</td>\n",
       "      <td>18.0</td>\n",
       "      <td>195.0</td>\n",
       "      <td>3250.0</td>\n",
       "      <td>FEMALE</td>\n",
       "    </tr>\n",
       "    <tr>\n",
       "      <th>3</th>\n",
       "      <td>Adelie</td>\n",
       "      <td>Torgersen</td>\n",
       "      <td>NaN</td>\n",
       "      <td>NaN</td>\n",
       "      <td>NaN</td>\n",
       "      <td>NaN</td>\n",
       "      <td>NaN</td>\n",
       "    </tr>\n",
       "    <tr>\n",
       "      <th>4</th>\n",
       "      <td>Adelie</td>\n",
       "      <td>Torgersen</td>\n",
       "      <td>36.7</td>\n",
       "      <td>19.3</td>\n",
       "      <td>193.0</td>\n",
       "      <td>3450.0</td>\n",
       "      <td>FEMALE</td>\n",
       "    </tr>\n",
       "  </tbody>\n",
       "</table>\n",
       "</div>"
      ],
      "text/plain": [
       "  species     island  culmen_length_mm  culmen_depth_mm  flipper_length_mm  \\\n",
       "0  Adelie  Torgersen              39.1             18.7              181.0   \n",
       "1  Adelie  Torgersen              39.5             17.4              186.0   \n",
       "2  Adelie  Torgersen              40.3             18.0              195.0   \n",
       "3  Adelie  Torgersen               NaN              NaN                NaN   \n",
       "4  Adelie  Torgersen              36.7             19.3              193.0   \n",
       "\n",
       "   body_mass_g     sex  \n",
       "0       3750.0    MALE  \n",
       "1       3800.0  FEMALE  \n",
       "2       3250.0  FEMALE  \n",
       "3          NaN     NaN  \n",
       "4       3450.0  FEMALE  "
      ]
     },
     "execution_count": 31,
     "metadata": {},
     "output_type": "execute_result"
    }
   ],
   "source": [
    "df = pd.read_csv('penguins.csv')\n",
    "df.head()"
   ]
  },
  {
   "cell_type": "markdown",
   "id": "c7208cbb",
   "metadata": {},
   "source": [
    "## **Data Preprocessing**"
   ]
  },
  {
   "cell_type": "code",
   "execution_count": 32,
   "id": "f4aaf06b",
   "metadata": {},
   "outputs": [],
   "source": [
    "df.drop(columns = ['island','sex'], inplace = True)"
   ]
  },
  {
   "cell_type": "code",
   "execution_count": 33,
   "id": "c7b61ab8",
   "metadata": {},
   "outputs": [],
   "source": [
    "df.rename(columns={'culmen_length_mm': 'culmen_length', 'culmen_depth_mm': 'culmen_depth', 'flipper_length_mm': 'flipper_length', 'body_mass_g': 'body_mass'}, inplace=True)"
   ]
  },
  {
   "cell_type": "code",
   "execution_count": 34,
   "id": "e421f2ed",
   "metadata": {},
   "outputs": [
    {
     "data": {
      "text/plain": [
       "species           0\n",
       "culmen_length     2\n",
       "culmen_depth      2\n",
       "flipper_length    2\n",
       "body_mass         2\n",
       "dtype: int64"
      ]
     },
     "execution_count": 34,
     "metadata": {},
     "output_type": "execute_result"
    }
   ],
   "source": [
    "df.isna().sum()"
   ]
  },
  {
   "cell_type": "code",
   "execution_count": 35,
   "id": "84cd0365",
   "metadata": {},
   "outputs": [
    {
     "data": {
      "text/html": [
       "<div>\n",
       "<style scoped>\n",
       "    .dataframe tbody tr th:only-of-type {\n",
       "        vertical-align: middle;\n",
       "    }\n",
       "\n",
       "    .dataframe tbody tr th {\n",
       "        vertical-align: top;\n",
       "    }\n",
       "\n",
       "    .dataframe thead th {\n",
       "        text-align: right;\n",
       "    }\n",
       "</style>\n",
       "<table border=\"1\" class=\"dataframe\">\n",
       "  <thead>\n",
       "    <tr style=\"text-align: right;\">\n",
       "      <th></th>\n",
       "      <th>species</th>\n",
       "      <th>culmen_length</th>\n",
       "      <th>culmen_depth</th>\n",
       "      <th>flipper_length</th>\n",
       "      <th>body_mass</th>\n",
       "    </tr>\n",
       "  </thead>\n",
       "  <tbody>\n",
       "    <tr>\n",
       "      <th>0</th>\n",
       "      <td>Adelie</td>\n",
       "      <td>39.1</td>\n",
       "      <td>18.7</td>\n",
       "      <td>181.0</td>\n",
       "      <td>3750.0</td>\n",
       "    </tr>\n",
       "    <tr>\n",
       "      <th>1</th>\n",
       "      <td>Adelie</td>\n",
       "      <td>39.5</td>\n",
       "      <td>17.4</td>\n",
       "      <td>186.0</td>\n",
       "      <td>3800.0</td>\n",
       "    </tr>\n",
       "    <tr>\n",
       "      <th>2</th>\n",
       "      <td>Adelie</td>\n",
       "      <td>40.3</td>\n",
       "      <td>18.0</td>\n",
       "      <td>195.0</td>\n",
       "      <td>3250.0</td>\n",
       "    </tr>\n",
       "    <tr>\n",
       "      <th>4</th>\n",
       "      <td>Adelie</td>\n",
       "      <td>36.7</td>\n",
       "      <td>19.3</td>\n",
       "      <td>193.0</td>\n",
       "      <td>3450.0</td>\n",
       "    </tr>\n",
       "    <tr>\n",
       "      <th>5</th>\n",
       "      <td>Adelie</td>\n",
       "      <td>39.3</td>\n",
       "      <td>20.6</td>\n",
       "      <td>190.0</td>\n",
       "      <td>3650.0</td>\n",
       "    </tr>\n",
       "  </tbody>\n",
       "</table>\n",
       "</div>"
      ],
      "text/plain": [
       "  species  culmen_length  culmen_depth  flipper_length  body_mass\n",
       "0  Adelie           39.1          18.7           181.0     3750.0\n",
       "1  Adelie           39.5          17.4           186.0     3800.0\n",
       "2  Adelie           40.3          18.0           195.0     3250.0\n",
       "4  Adelie           36.7          19.3           193.0     3450.0\n",
       "5  Adelie           39.3          20.6           190.0     3650.0"
      ]
     },
     "execution_count": 35,
     "metadata": {},
     "output_type": "execute_result"
    }
   ],
   "source": [
    "df = df.dropna()\n",
    "df.head()"
   ]
  },
  {
   "cell_type": "code",
   "execution_count": 36,
   "id": "e9c1325c",
   "metadata": {},
   "outputs": [],
   "source": [
    "X = df.drop('species', axis = 1)\n",
    "y = df['species']"
   ]
  },
  {
   "cell_type": "markdown",
   "id": "350aa6df",
   "metadata": {},
   "source": [
    "## **EDA**"
   ]
  },
  {
   "cell_type": "code",
   "execution_count": 37,
   "id": "ce19355d",
   "metadata": {},
   "outputs": [
    {
     "name": "stdout",
     "output_type": "stream",
     "text": [
      "species\n",
      "Adelie       151\n",
      "Gentoo       123\n",
      "Chinstrap     68\n",
      "Name: count, dtype: int64\n"
     ]
    },
    {
     "data": {
      "image/png": "[encoded data removed]",
      "text/plain": [
       "<Figure size 640x480 with 1 Axes>"
      ]
     },
     "metadata": {},
     "output_type": "display_data"
    }
   ],
   "source": [
    "sns.countplot(x = y)\n",
    "\n",
    "print(y.value_counts())"
   ]
  },
  {
   "cell_type": "markdown",
   "id": "8659c6ff",
   "metadata": {},
   "source": [
    "The data is a little imbalanced, so the proponents decided to apply resampling method."
   ]
  },
  {
   "cell_type": "markdown",
   "id": "c75f1a31",
   "metadata": {},
   "source": [
    "**Resampling**"
   ]
  },
  {
   "cell_type": "code",
   "execution_count": 38,
   "id": "750f0a99",
   "metadata": {},
   "outputs": [],
   "source": [
    "smote = SMOTE(random_state=42)\n",
    "\n",
    "X_smote, y_smote = smote.fit_resample(X, y)"
   ]
  },
  {
   "cell_type": "code",
   "execution_count": 39,
   "id": "e8372141",
   "metadata": {},
   "outputs": [
    {
     "name": "stdout",
     "output_type": "stream",
     "text": [
      "species\n",
      "Adelie       151\n",
      "Chinstrap    151\n",
      "Gentoo       151\n",
      "Name: count, dtype: int64\n"
     ]
    },
    {
     "data": {
      "image/png": "[encoded data removed]",
      "text/plain": [
       "<Figure size 640x480 with 1 Axes>"
      ]
     },
     "metadata": {},
     "output_type": "display_data"
    }
   ],
   "source": [
    "sns.countplot(x = y_smote)\n",
    "\n",
    "print(y_smote.value_counts())"
   ]
  },
  {
   "cell_type": "markdown",
   "id": "0cf1f302",
   "metadata": {},
   "source": [
    "## **Data Splitting**"
   ]
  },
  {
   "cell_type": "code",
   "execution_count": 40,
   "id": "a4495f91",
   "metadata": {},
   "outputs": [],
   "source": [
    "X_train, X_test, y_train, y_test = tts(X_smote, y_smote, test_size = 0.3, random_state = 143)"
   ]
  },
  {
   "cell_type": "markdown",
   "id": "f855f1f2",
   "metadata": {},
   "source": [
    "## **Model Training**"
   ]
  },
  {
   "cell_type": "code",
   "execution_count": 41,
   "id": "8528e070",
   "metadata": {},
   "outputs": [],
   "source": [
    "et = ensemble.ExtraTreesClassifier()\n",
    "et.fit(X_train, y_train)\n",
    "et_pred = et.predict(X_test)"
   ]
  },
  {
   "cell_type": "code",
   "execution_count": 42,
   "id": "85dde132",
   "metadata": {},
   "outputs": [],
   "source": [
    "rf = ensemble.RandomForestClassifier()\n",
    "rf.fit(X_train, y_train)\n",
    "rf_pred = rf.predict(X_test)"
   ]
  },
  {
   "cell_type": "code",
   "execution_count": 43,
   "id": "319368b9",
   "metadata": {},
   "outputs": [],
   "source": [
    "gb = ensemble.GradientBoostingClassifier()\n",
    "gb.fit(X_train, y_train)\n",
    "gb_pred = gb.predict(X_test)"
   ]
  },
  {
   "cell_type": "markdown",
   "id": "d7e5ee6b",
   "metadata": {},
   "source": [
    "## **Model Evaluation**"
   ]
  },
  {
   "cell_type": "code",
   "execution_count": 44,
   "id": "7929c357",
   "metadata": {},
   "outputs": [
    {
     "name": "stdout",
     "output_type": "stream",
     "text": [
      "\n",
      "Extra Trees Classifier:\n",
      "Accuracy score: 0.9926470588235294\n",
      "Classification Report:\n",
      "               precision    recall  f1-score   support\n",
      "\n",
      "      Adelie       0.98      1.00      0.99        45\n",
      "   Chinstrap       1.00      0.98      0.99        45\n",
      "      Gentoo       1.00      1.00      1.00        46\n",
      "\n",
      "    accuracy                           0.99       136\n",
      "   macro avg       0.99      0.99      0.99       136\n",
      "weighted avg       0.99      0.99      0.99       136\n",
      "\n",
      "\n",
      "Random Forest Classifier:\n",
      "Accuracy score: 0.9926470588235294\n",
      "Classification Report:\n",
      "               precision    recall  f1-score   support\n",
      "\n",
      "      Adelie       0.98      1.00      0.99        45\n",
      "   Chinstrap       1.00      0.98      0.99        45\n",
      "      Gentoo       1.00      1.00      1.00        46\n",
      "\n",
      "    accuracy                           0.99       136\n",
      "   macro avg       0.99      0.99      0.99       136\n",
      "weighted avg       0.99      0.99      0.99       136\n",
      "\n",
      "\n",
      "Gradient Boost Classifier:\n",
      "Accuracy score: 0.9926470588235294\n",
      "Classification Report:\n",
      "               precision    recall  f1-score   support\n",
      "\n",
      "      Adelie       0.98      1.00      0.99        45\n",
      "   Chinstrap       1.00      0.98      0.99        45\n",
      "      Gentoo       1.00      1.00      1.00        46\n",
      "\n",
      "    accuracy                           0.99       136\n",
      "   macro avg       0.99      0.99      0.99       136\n",
      "weighted avg       0.99      0.99      0.99       136\n",
      "\n"
     ]
    }
   ],
   "source": [
    "print(\"\\nExtra Trees Classifier:\")\n",
    "print(\"Accuracy score:\", accuracy_score(y_test, et_pred))\n",
    "print(\"Classification Report:\\n\", classification_report(y_test, et_pred))\n",
    "\n",
    "print(\"\\nRandom Forest Classifier:\")\n",
    "print(\"Accuracy score:\", accuracy_score(y_test, rf_pred))\n",
    "print(\"Classification Report:\\n\", classification_report(y_test, rf_pred))\n",
    "\n",
    "print(\"\\nGradient Boost Classifier:\")\n",
    "print(\"Accuracy score:\", accuracy_score(y_test, gb_pred))\n",
    "print(\"Classification Report:\\n\", classification_report(y_test, gb_pred))"
   ]
  },
  {
   "cell_type": "markdown",
   "id": "56c6f2a0",
   "metadata": {},
   "source": [
    "The three (3) ensemble models got the exact same classification report results. The proponents will try to create a new model using the top 3 features and see if the result will now be different."
   ]
  },
  {
   "cell_type": "markdown",
   "id": "a3388167",
   "metadata": {},
   "source": [
    "**Feature Importance**"
   ]
  },
  {
   "cell_type": "code",
   "execution_count": 45,
   "id": "00a39fa5",
   "metadata": {},
   "outputs": [],
   "source": [
    "feature_names = np.array(df.drop('species', axis = 1).columns)\n",
    "def plot_feature_importance(name, coefficients):\n",
    "    feature_importance_base = pd.DataFrame({'Feature': feature_names, 'Coefficient': coefficients})\n",
    "    feature_importance_base['Absolute_Coefficient'] = feature_importance_base['Coefficient'].abs()\n",
    "    feature_importance_base = feature_importance_base.sort_values(by = 'Absolute_Coefficient')\n",
    "    \n",
    "    plt.figure(figsize = (10, 6))\n",
    "    plt.barh(feature_importance_base['Feature'], feature_importance_base['Absolute_Coefficient'], \n",
    "            color = plt.cm.get_cmap('tab10_r')(range(len(feature_importance_base))))\n",
    "    plt.xlabel('Importance')\n",
    "    plt.ylabel('Feature')\n",
    "    plt.title(f'{name} Feature Importance')\n",
    "    plt.show()\n",
    "    return feature_importance_base"
   ]
  },
  {
   "cell_type": "code",
   "execution_count": 46,
   "id": "02c3815c",
   "metadata": {},
   "outputs": [
    {
     "data": {
      "image/png": "[encoded data removed]",
      "text/plain": [
       "<Figure size 1000x600 with 1 Axes>"
      ]
     },
     "metadata": {},
     "output_type": "display_data"
    },
    {
     "data": {
      "text/html": [
       "<div>\n",
       "<style scoped>\n",
       "    .dataframe tbody tr th:only-of-type {\n",
       "        vertical-align: middle;\n",
       "    }\n",
       "\n",
       "    .dataframe tbody tr th {\n",
       "        vertical-align: top;\n",
       "    }\n",
       "\n",
       "    .dataframe thead th {\n",
       "        text-align: right;\n",
       "    }\n",
       "</style>\n",
       "<table border=\"1\" class=\"dataframe\">\n",
       "  <thead>\n",
       "    <tr style=\"text-align: right;\">\n",
       "      <th></th>\n",
       "      <th>Feature</th>\n",
       "      <th>Coefficient</th>\n",
       "      <th>Absolute_Coefficient</th>\n",
       "    </tr>\n",
       "  </thead>\n",
       "  <tbody>\n",
       "    <tr>\n",
       "      <th>3</th>\n",
       "      <td>body_mass</td>\n",
       "      <td>0.161357</td>\n",
       "      <td>0.161357</td>\n",
       "    </tr>\n",
       "    <tr>\n",
       "      <th>1</th>\n",
       "      <td>culmen_depth</td>\n",
       "      <td>0.217484</td>\n",
       "      <td>0.217484</td>\n",
       "    </tr>\n",
       "    <tr>\n",
       "      <th>2</th>\n",
       "      <td>flipper_length</td>\n",
       "      <td>0.227815</td>\n",
       "      <td>0.227815</td>\n",
       "    </tr>\n",
       "    <tr>\n",
       "      <th>0</th>\n",
       "      <td>culmen_length</td>\n",
       "      <td>0.393343</td>\n",
       "      <td>0.393343</td>\n",
       "    </tr>\n",
       "  </tbody>\n",
       "</table>\n",
       "</div>"
      ],
      "text/plain": [
       "          Feature  Coefficient  Absolute_Coefficient\n",
       "3       body_mass     0.161357              0.161357\n",
       "1    culmen_depth     0.217484              0.217484\n",
       "2  flipper_length     0.227815              0.227815\n",
       "0   culmen_length     0.393343              0.393343"
      ]
     },
     "execution_count": 46,
     "metadata": {},
     "output_type": "execute_result"
    }
   ],
   "source": [
    "plot_feature_importance('Extra Trees - ', et.feature_importances_)"
   ]
  },
  {
   "cell_type": "code",
   "execution_count": 47,
   "id": "c64bfc7e",
   "metadata": {},
   "outputs": [
    {
     "data": {
      "image/png": "[encoded data removed]",
      "text/plain": [
       "<Figure size 1000x600 with 1 Axes>"
      ]
     },
     "metadata": {},
     "output_type": "display_data"
    },
    {
     "data": {
      "text/html": [
       "<div>\n",
       "<style scoped>\n",
       "    .dataframe tbody tr th:only-of-type {\n",
       "        vertical-align: middle;\n",
       "    }\n",
       "\n",
       "    .dataframe tbody tr th {\n",
       "        vertical-align: top;\n",
       "    }\n",
       "\n",
       "    .dataframe thead th {\n",
       "        text-align: right;\n",
       "    }\n",
       "</style>\n",
       "<table border=\"1\" class=\"dataframe\">\n",
       "  <thead>\n",
       "    <tr style=\"text-align: right;\">\n",
       "      <th></th>\n",
       "      <th>Feature</th>\n",
       "      <th>Coefficient</th>\n",
       "      <th>Absolute_Coefficient</th>\n",
       "    </tr>\n",
       "  </thead>\n",
       "  <tbody>\n",
       "    <tr>\n",
       "      <th>3</th>\n",
       "      <td>body_mass</td>\n",
       "      <td>0.079134</td>\n",
       "      <td>0.079134</td>\n",
       "    </tr>\n",
       "    <tr>\n",
       "      <th>1</th>\n",
       "      <td>culmen_depth</td>\n",
       "      <td>0.240451</td>\n",
       "      <td>0.240451</td>\n",
       "    </tr>\n",
       "    <tr>\n",
       "      <th>2</th>\n",
       "      <td>flipper_length</td>\n",
       "      <td>0.262958</td>\n",
       "      <td>0.262958</td>\n",
       "    </tr>\n",
       "    <tr>\n",
       "      <th>0</th>\n",
       "      <td>culmen_length</td>\n",
       "      <td>0.417457</td>\n",
       "      <td>0.417457</td>\n",
       "    </tr>\n",
       "  </tbody>\n",
       "</table>\n",
       "</div>"
      ],
      "text/plain": [
       "          Feature  Coefficient  Absolute_Coefficient\n",
       "3       body_mass     0.079134              0.079134\n",
       "1    culmen_depth     0.240451              0.240451\n",
       "2  flipper_length     0.262958              0.262958\n",
       "0   culmen_length     0.417457              0.417457"
      ]
     },
     "execution_count": 47,
     "metadata": {},
     "output_type": "execute_result"
    }
   ],
   "source": [
    "plot_feature_importance('Random Forest - ', rf.feature_importances_)"
   ]
  },
  {
   "cell_type": "code",
   "execution_count": 48,
   "id": "bffdf173",
   "metadata": {},
   "outputs": [
    {
     "data": {
      "image/png": "[encoded data removed]",
      "text/plain": [
       "<Figure size 1000x600 with 1 Axes>"
      ]
     },
     "metadata": {},
     "output_type": "display_data"
    },
    {
     "data": {
      "text/html": [
       "<div>\n",
       "<style scoped>\n",
       "    .dataframe tbody tr th:only-of-type {\n",
       "        vertical-align: middle;\n",
       "    }\n",
       "\n",
       "    .dataframe tbody tr th {\n",
       "        vertical-align: top;\n",
       "    }\n",
       "\n",
       "    .dataframe thead th {\n",
       "        text-align: right;\n",
       "    }\n",
       "</style>\n",
       "<table border=\"1\" class=\"dataframe\">\n",
       "  <thead>\n",
       "    <tr style=\"text-align: right;\">\n",
       "      <th></th>\n",
       "      <th>Feature</th>\n",
       "      <th>Coefficient</th>\n",
       "      <th>Absolute_Coefficient</th>\n",
       "    </tr>\n",
       "  </thead>\n",
       "  <tbody>\n",
       "    <tr>\n",
       "      <th>3</th>\n",
       "      <td>body_mass</td>\n",
       "      <td>0.054070</td>\n",
       "      <td>0.054070</td>\n",
       "    </tr>\n",
       "    <tr>\n",
       "      <th>1</th>\n",
       "      <td>culmen_depth</td>\n",
       "      <td>0.164991</td>\n",
       "      <td>0.164991</td>\n",
       "    </tr>\n",
       "    <tr>\n",
       "      <th>2</th>\n",
       "      <td>flipper_length</td>\n",
       "      <td>0.327540</td>\n",
       "      <td>0.327540</td>\n",
       "    </tr>\n",
       "    <tr>\n",
       "      <th>0</th>\n",
       "      <td>culmen_length</td>\n",
       "      <td>0.453400</td>\n",
       "      <td>0.453400</td>\n",
       "    </tr>\n",
       "  </tbody>\n",
       "</table>\n",
       "</div>"
      ],
      "text/plain": [
       "          Feature  Coefficient  Absolute_Coefficient\n",
       "3       body_mass     0.054070              0.054070\n",
       "1    culmen_depth     0.164991              0.164991\n",
       "2  flipper_length     0.327540              0.327540\n",
       "0   culmen_length     0.453400              0.453400"
      ]
     },
     "execution_count": 48,
     "metadata": {},
     "output_type": "execute_result"
    }
   ],
   "source": [
    "plot_feature_importance('Gradient Boosting - ', gb.feature_importances_)"
   ]
  },
  {
   "cell_type": "markdown",
   "id": "8f6d7a2d",
   "metadata": {},
   "source": [
    "Since `culmen_length`, `flipper_length`, and `culment_depth` are the top 3 features, the proponents will use them as features for the new models."
   ]
  },
  {
   "cell_type": "markdown",
   "id": "8233551e",
   "metadata": {},
   "source": [
    "## **Model Training with Top 3 Features**"
   ]
  },
  {
   "cell_type": "code",
   "execution_count": 49,
   "id": "8fa5689b",
   "metadata": {},
   "outputs": [],
   "source": [
    "X = df.drop(['species', 'body_mass'], axis = 1)\n",
    "y = df['species']"
   ]
  },
  {
   "cell_type": "code",
   "execution_count": 50,
   "id": "b829bbeb",
   "metadata": {},
   "outputs": [],
   "source": [
    "X_smote, y_smote = smote.fit_resample(X, y)\n",
    "X_train, X_test, y_train, y_test = tts(X_smote, y_smote, test_size = 0.3, random_state = 143)"
   ]
  },
  {
   "cell_type": "code",
   "execution_count": 51,
   "id": "5209fa85",
   "metadata": {},
   "outputs": [],
   "source": [
    "et = ensemble.ExtraTreesClassifier()\n",
    "et.fit(X_train, y_train)\n",
    "et_pred = et.predict(X_test)"
   ]
  },
  {
   "cell_type": "code",
   "execution_count": 52,
   "id": "1d9bdef2",
   "metadata": {},
   "outputs": [],
   "source": [
    "rf = ensemble.RandomForestClassifier()\n",
    "rf.fit(X_train, y_train)\n",
    "rf_pred = rf.predict(X_test)"
   ]
  },
  {
   "cell_type": "code",
   "execution_count": 53,
   "id": "3133a6b6",
   "metadata": {},
   "outputs": [],
   "source": [
    "gb = ensemble.GradientBoostingClassifier()\n",
    "gb.fit(X_train, y_train)\n",
    "gb_pred = gb.predict(X_test)"
   ]
  },
  {
   "cell_type": "markdown",
   "id": "bdf387f3",
   "metadata": {},
   "source": [
    "## **Model Evaluation**"
   ]
  },
  {
   "cell_type": "code",
   "execution_count": 54,
   "id": "ee3a1487",
   "metadata": {},
   "outputs": [
    {
     "name": "stdout",
     "output_type": "stream",
     "text": [
      "\n",
      "Extra Trees Classifier:\n",
      "Accuracy score: 1.0\n",
      "Classification Report:\n",
      "               precision    recall  f1-score   support\n",
      "\n",
      "      Adelie       1.00      1.00      1.00        45\n",
      "   Chinstrap       1.00      1.00      1.00        45\n",
      "      Gentoo       1.00      1.00      1.00        46\n",
      "\n",
      "    accuracy                           1.00       136\n",
      "   macro avg       1.00      1.00      1.00       136\n",
      "weighted avg       1.00      1.00      1.00       136\n",
      "\n",
      "\n",
      "Random Forest Classifier:\n",
      "Accuracy score: 0.9852941176470589\n",
      "Classification Report:\n",
      "               precision    recall  f1-score   support\n",
      "\n",
      "      Adelie       0.98      0.98      0.98        45\n",
      "   Chinstrap       0.98      0.98      0.98        45\n",
      "      Gentoo       1.00      1.00      1.00        46\n",
      "\n",
      "    accuracy                           0.99       136\n",
      "   macro avg       0.99      0.99      0.99       136\n",
      "weighted avg       0.99      0.99      0.99       136\n",
      "\n",
      "\n",
      "Gradient Boost Classifier:\n",
      "Accuracy score: 0.9926470588235294\n",
      "Classification Report:\n",
      "               precision    recall  f1-score   support\n",
      "\n",
      "      Adelie       0.98      1.00      0.99        45\n",
      "   Chinstrap       1.00      0.98      0.99        45\n",
      "      Gentoo       1.00      1.00      1.00        46\n",
      "\n",
      "    accuracy                           0.99       136\n",
      "   macro avg       0.99      0.99      0.99       136\n",
      "weighted avg       0.99      0.99      0.99       136\n",
      "\n"
     ]
    }
   ],
   "source": [
    "print(\"\\nExtra Trees Classifier:\")\n",
    "print(\"Accuracy score:\", accuracy_score(y_test, et_pred))\n",
    "print(\"Classification Report:\\n\", classification_report(y_test, et_pred))\n",
    "\n",
    "print(\"\\nRandom Forest Classifier:\")\n",
    "print(\"Accuracy score:\", accuracy_score(y_test, rf_pred))\n",
    "print(\"Classification Report:\\n\", classification_report(y_test, rf_pred))\n",
    "\n",
    "print(\"\\nGradient Boost Classifier:\")\n",
    "print(\"Accuracy score:\", accuracy_score(y_test, gb_pred))\n",
    "print(\"Classification Report:\\n\", classification_report(y_test, gb_pred))"
   ]
  },
  {
   "cell_type": "markdown",
   "id": "8074cadf",
   "metadata": {},
   "source": [
    "Using only the top 3 features, the `Extra Trees Classifier` got an outstanding **100% perfect accuracy!** Hence, the proponents will use this method for the model development."
   ]
  }
 ],
 "metadata": {
  "kernelspec": {
   "display_name": "Python 3",
   "language": "python",
   "name": "python3"
  },
  "language_info": {
   "codemirror_mode": {
    "name": "ipython",
    "version": 3
   },
   "file_extension": ".py",
   "mimetype": "text/x-python",
   "name": "python",
   "nbconvert_exporter": "python",
   "pygments_lexer": "ipython3",
   "version": "3.12.3"
  }
 },
 "nbformat": 4,
 "nbformat_minor": 5
}
