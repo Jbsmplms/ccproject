{
 "cells": [
  {
   "cell_type": "markdown",
   "id": "3ff88b6d-688f-440f-8e7a-17c556601fa5",
   "metadata": {},
   "source": [
    "<h3 style=\"font-family: Times New Roman\"><strong>Training CNN Model using MNIST Dataset</strong></h3>\n",
    "\n",
    "<div style=\"font-family: Times New Roman; font-size: 15px\">\n",
    "For this demonstration we will be using MNIST dataset which is a popular dataset in training deep learning models.\n",
    "</div>"
   ]
  },
  {
   "cell_type": "markdown",
   "id": "76fa4f9e-5896-41b7-b85d-083a1c27cda9",
   "metadata": {},
   "source": [
    "<h4 style=\"font-family: Times New Roman\"><strong>Import Standard Libraries</strong></h4>"
   ]
  },
  {
   "cell_type": "code",
   "execution_count": 2,
   "id": "d05c2059-f9f3-4450-a26b-e939b1d2c4ee",
   "metadata": {},
   "outputs": [],
   "source": [
    "import torch\n",
    "import torch.nn as nn\n",
    "import torch.nn.functional as F\n",
    "from torch.utils.data import DataLoader\n",
    "import torchvision\n",
    "from torchvision import datasets, transforms\n",
    "\n",
    "import random\n",
    "import numpy as np\n",
    "from sklearn.metrics import confusion_matrix, classification_report, accuracy_score\n",
    "import matplotlib.pyplot as plt\n",
    "%matplotlib inline\n",
    "\n",
    "torch.backends.cudnn.deterministic=True\n",
    "torch.set_printoptions(sci_mode=False)\n",
    "\n",
    "import time\n",
    "from tqdm.notebook import tqdm"
   ]
  },
  {
   "cell_type": "markdown",
   "id": "1f94e6ef-cfba-438c-bdb3-a7d73b26adcc",
   "metadata": {},
   "source": [
    "<p style=\"font-family:Times New Roman; text-align:justify; font-size:15px\">\n",
    "<strong><tt>torchvision.datasets</tt></strong> module provides a variety of datasets that are commonly used for training machine learning and deep learning models. These datasets are preprocessed and can be easily integrated into PyTorch workflows for tasks such as image classification, object detection, and more. Dataset includes:\n",
    "<ul>\n",
    "    <li>MNIST</li>\n",
    "    <li>CIFAR10</li>\n",
    "    <li>CIFAR100</li>\n",
    "    <li>ImageNet</li>\n",
    "</ul>\n",
    "</div>"
   ]
  },
  {
   "cell_type": "code",
   "execution_count": 3,
   "id": "8bbe5b33-da80-4b34-9245-af34e60ad5d9",
   "metadata": {},
   "outputs": [],
   "source": [
    "# `transforms` is used to apply augmentation techniques and modification to the image data (e.g, rotate, resize, normalization, etc.).\n",
    "# for this one, let's just convert the image arrays to tensor.\n",
    "transform = transforms.ToTensor()\n",
    "\n",
    "train_data = datasets.MNIST(root='data', train=True, download=True, transform=transform)\n",
    "test_data  = datasets.MNIST(root='data', train=False, download=True, transform=transform)"
   ]
  },
  {
   "cell_type": "code",
   "execution_count": 4,
   "id": "08b8dc7b-1ff0-4e26-ab98-2c5c4c9064d5",
   "metadata": {},
   "outputs": [
    {
     "data": {
      "text/plain": [
       "Dataset MNIST\n",
       "    Number of datapoints: 60000\n",
       "    Root location: data\n",
       "    Split: Train\n",
       "    StandardTransform\n",
       "Transform: ToTensor()"
      ]
     },
     "execution_count": 4,
     "metadata": {},
     "output_type": "execute_result"
    }
   ],
   "source": [
    "# the training data have 60,000 images, let's take a small portion from it for the validation.\n",
    "# what's the importance of validation data?\n",
    "train_data"
   ]
  },
  {
   "cell_type": "code",
   "execution_count": 5,
   "id": "fd19ea82-a536-4781-adf5-bdaf4352b81b",
   "metadata": {},
   "outputs": [
    {
     "data": {
      "text/plain": [
       "Dataset MNIST\n",
       "    Number of datapoints: 10000\n",
       "    Root location: data\n",
       "    Split: Test\n",
       "    StandardTransform\n",
       "Transform: ToTensor()"
      ]
     },
     "execution_count": 5,
     "metadata": {},
     "output_type": "execute_result"
    }
   ],
   "source": [
    "# unseen images\n",
    "test_data"
   ]
  },
  {
   "cell_type": "code",
   "execution_count": 6,
   "id": "1933c5e8-87e4-4a45-bad1-757655d3adb1",
   "metadata": {},
   "outputs": [],
   "source": [
    "# 50,000 for training and 10,000 for validation\n",
    "train_set, val_set = torch.utils.data.random_split(train_data, [0.8, 0.2])"
   ]
  },
  {
   "cell_type": "code",
   "execution_count": 9,
   "id": "c790acf5-aa8f-48ad-b3a6-e65954bac0a7",
   "metadata": {},
   "outputs": [],
   "source": [
    "# function to set the seed\n",
    "def set_seed(seed):\n",
    "    np.random.seed(seed)\n",
    "    torch.manual_seed(seed)\n",
    "    random.seed(seed)"
   ]
  },
  {
   "cell_type": "markdown",
   "id": "bcee4167-62d1-4e8a-a9a5-90656a99b02a",
   "metadata": {},
   "source": [
    "<p style=\"font-family:Times New Roman; text-align:justify; font-size:15px\">\n",
    "PyTorch provides two data primitives: <strong><tt>torch.utils.data.DataLoader</tt></strong> and <strong><tt>torch.utils.data.Dataset</tt></strong> that allow you to use pre-loaded datasets as well as your own data. Dataset stores the samples and their corresponding labels, and DataLoader wraps an iterable around the Dataset to enable easy access to the samples.\n",
    "</p>"
   ]
  },
  {
   "cell_type": "code",
   "execution_count": 12,
   "id": "425ed8f7-6b37-484c-8b44-e9fa116a5fc1",
   "metadata": {},
   "outputs": [],
   "source": [
    "set_seed(143)\n",
    "\n",
    "batch_size = 10\n",
    "\n",
    "train_loader = DataLoader(train_set, batch_size=batch_size, shuffle=True)\n",
    "val_loader = DataLoader(val_set, batch_size=batch_size, shuffle=True)\n",
    "test_loader = DataLoader(test_data, batch_size=batch_size, shuffle=False)"
   ]
  },
  {
   "cell_type": "code",
   "execution_count": 13,
   "id": "4d9f39fb-5b80-4338-bcfb-a39e9c933d23",
   "metadata": {},
   "outputs": [],
   "source": [
    "set_seed(143)\n",
    "images, labels = iter(train_loader).__next__()\n",
    "\n",
    "def display_image(batch):\n",
    "    batch = batch.detach().numpy()\n",
    "    fig, axs = plt.subplots(1, len(batch), figsize=(12, 2))\n",
    "    for i in range(len(batch)):\n",
    "        axs[i].imshow(batch[i, 0, :, :], vmin=0, vmax=1)\n",
    "        axs[i].axis('off')\n",
    "        axs[i].set_title(labels[i].numpy())\n",
    "    plt.show()"
   ]
  },
  {
   "cell_type": "markdown",
   "id": "cb6b1a47-b62f-4ec9-b030-1552568c0e25",
   "metadata": {},
   "source": [
    "<p style=\"font-family:Times New Roman; text-align:justify; font-size:15px\">\n",
    "For this demonstration, we will use the following architecture: it consists of two convolutional layers, each followed by its own max-pooling layer and activation function. Additionally, there are two fully connected layers, with the second layer using the softmax activation function.\n",
    "</div>\n",
    "\n",
    "<center><img src =\"figures/lecture_model.png\"></center>"
   ]
  },
  {
   "cell_type": "markdown",
   "id": "aeb30c66-8555-4321-9c46-e4ba11201469",
   "metadata": {},
   "source": [
    "<h4 style=\"font-family: Times New Roman\"><strong>Input Images</strong></h4>"
   ]
  },
  {
   "cell_type": "code",
   "execution_count": 14,
   "id": "52e4b7c4-3e72-49e4-ab74-807f8c899b53",
   "metadata": {},
   "outputs": [
    {
     "data": {
      "image/png": "[encoded data removed]",
      "text/plain": [
       "<Figure size 1200x200 with 10 Axes>"
      ]
     },
     "metadata": {},
     "output_type": "display_data"
    },
    {
     "name": "stdout",
     "output_type": "stream",
     "text": [
      "torch.Size([10, 1, 28, 28])\n"
     ]
    }
   ],
   "source": [
    "display_image(images)\n",
    "print(images.shape)\n",
    "\n",
    "# (b, c, h, w)"
   ]
  },
  {
   "cell_type": "markdown",
   "id": "f24ba8c4-a4d8-4009-8073-0b2fbead2e22",
   "metadata": {},
   "source": [
    "$$\\text{Output Shape} = \\frac{\\text{input width} - \\text{filter} + 2 \\cdot \\text{padding}}{\\text{stride} + 1}$$"
   ]
  },
  {
   "cell_type": "code",
   "execution_count": 15,
   "id": "8c723faf-971a-44ed-9838-d76b3150ec1c",
   "metadata": {},
   "outputs": [],
   "source": [
    "def calc_out(w, f, s, p):\n",
    "    \"\"\"\n",
    "    Calculate output shape of a matrix after a convolution.\n",
    "    The results are only applicable for square matrix kernels and images only.\n",
    "    \"\"\"\n",
    "    print(f'Output Shape: {(w - f + 2 * p) // s + 1}')"
   ]
  },
  {
   "cell_type": "markdown",
   "id": "53fb2163-110c-419d-ab98-d40f72bfad15",
   "metadata": {},
   "source": [
    "<h4 style=\"font-family: Times New Roman\"><strong>First Convolution Layer + Activation Function</strong></h4>"
   ]
  },
  {
   "cell_type": "code",
   "execution_count": 19,
   "id": "c4333852-a771-4ff2-bd18-43bedaed7041",
   "metadata": {},
   "outputs": [
    {
     "name": "stdout",
     "output_type": "stream",
     "text": [
      "Output Shape: 28\n"
     ]
    }
   ],
   "source": [
    "# The first convolution must output a 28 by 28 image size\n",
    "calc_out(28, 3, 1, 1)"
   ]
  },
  {
   "cell_type": "code",
   "execution_count": 20,
   "id": "9c6724da-9790-4dee-b7cf-45a0ba123b9b",
   "metadata": {},
   "outputs": [
    {
     "data": {
      "image/png": "[encoded data removed]",
      "text/plain": [
       "<Figure size 1200x200 with 10 Axes>"
      ]
     },
     "metadata": {},
     "output_type": "display_data"
    },
    {
     "name": "stdout",
     "output_type": "stream",
     "text": [
      "torch.Size([10, 32, 28, 28])\n"
     ]
    }
   ],
   "source": [
    "conv1 = nn.Conv2d(1, 32, (3,3), 1, 1)\n",
    "\n",
    "x = F.relu(conv1(images))\n",
    "display_image(x)\n",
    "print(x.shape)"
   ]
  },
  {
   "cell_type": "markdown",
   "id": "bbdc9b03-81fa-4575-9d65-9e72e4b7004e",
   "metadata": {},
   "source": [
    "<h4 style=\"font-family: Times New Roman\"><strong>First Pooling (MaxPooling)</strong></h4>"
   ]
  },
  {
   "cell_type": "code",
   "execution_count": 21,
   "id": "49f5e39c-5f3e-48b9-80f8-5e51d921ba90",
   "metadata": {},
   "outputs": [
    {
     "name": "stdout",
     "output_type": "stream",
     "text": [
      "Output Shape: 14\n"
     ]
    }
   ],
   "source": [
    "# first maxpooling must output a 14 by 14 size\n",
    "calc_out(28, 2, 2, 0)"
   ]
  },
  {
   "cell_type": "code",
   "execution_count": 22,
   "id": "43183f1c-614d-4dd3-922e-a7766e85ddd5",
   "metadata": {},
   "outputs": [
    {
     "data": {
      "image/png": "[encoded data removed]",
      "text/plain": [
       "<Figure size 1200x200 with 10 Axes>"
      ]
     },
     "metadata": {},
     "output_type": "display_data"
    },
    {
     "name": "stdout",
     "output_type": "stream",
     "text": [
      "torch.Size([10, 32, 14, 14])\n"
     ]
    }
   ],
   "source": [
    "pool1 = nn.MaxPool2d((2,2), 2)\n",
    "\n",
    "x = pool1(x)\n",
    "display_image(x)\n",
    "print(x.shape)"
   ]
  },
  {
   "cell_type": "markdown",
   "id": "80a9d0a0-288d-4611-9061-902dda2c0848",
   "metadata": {},
   "source": [
    "<h4 style=\"font-family: Times New Roman\"><strong>Let's examine the feature map.</strong></h4>"
   ]
  },
  {
   "cell_type": "code",
   "execution_count": 23,
   "id": "6701e7d8-e4e1-4d49-aad2-d44c0050f615",
   "metadata": {},
   "outputs": [
    {
     "data": {
      "image/png": "[encoded data removed]",
      "text/plain": [
       "<Figure size 1200x200 with 32 Axes>"
      ]
     },
     "metadata": {},
     "output_type": "display_data"
    }
   ],
   "source": [
    "idx = 3\n",
    "feature_maps =  x[idx].view((1, 32, 14, 14)).detach().numpy()\n",
    "fig, axs = plt.subplots(1, 32, figsize=(12, 2))\n",
    "for i in range(32):\n",
    "    axs[i].imshow(feature_maps[0, i, :, :], vmin=0, vmax=1)\n",
    "    axs[i].axis('off')"
   ]
  },
  {
   "cell_type": "markdown",
   "id": "91ceccb7-d531-4a0f-9d97-933f2e542e5f",
   "metadata": {},
   "source": [
    "<h4 style=\"font-family: Times New Roman\"><strong>Second Convolution</strong></h4>"
   ]
  },
  {
   "cell_type": "code",
   "execution_count": 28,
   "id": "9fa3c1f1-957e-48cc-83ec-9093ff128e84",
   "metadata": {},
   "outputs": [
    {
     "name": "stdout",
     "output_type": "stream",
     "text": [
      "Output Shape: 14\n"
     ]
    }
   ],
   "source": [
    "calc_out(14, 3, 1, 1)"
   ]
  },
  {
   "cell_type": "code",
   "execution_count": 29,
   "id": "1c33fd53-3d69-4489-a64c-b4928e245d4b",
   "metadata": {},
   "outputs": [
    {
     "data": {
      "image/png": "[encoded data removed]",
      "text/plain": [
       "<Figure size 1200x200 with 10 Axes>"
      ]
     },
     "metadata": {},
     "output_type": "display_data"
    },
    {
     "name": "stdout",
     "output_type": "stream",
     "text": [
      "torch.Size([10, 64, 14, 14])\n"
     ]
    }
   ],
   "source": [
    "conv2 = nn.Conv2d(32, 64, (3,3), 1, 1)\n",
    "\n",
    "x = F.relu(conv2(x))\n",
    "display_image(x)\n",
    "print(x.shape)"
   ]
  },
  {
   "cell_type": "markdown",
   "id": "75d59c52-ea6c-417b-8ffd-71cd4484142d",
   "metadata": {},
   "source": [
    "<h4 style=\"font-family: Times New Roman\"><strong>Second Pooling (MaxPooling)</strong></h4>"
   ]
  },
  {
   "cell_type": "code",
   "execution_count": 30,
   "id": "eb07a166-9646-4f2e-b292-3432b4d18f26",
   "metadata": {},
   "outputs": [
    {
     "name": "stdout",
     "output_type": "stream",
     "text": [
      "Output Shape: 7\n"
     ]
    }
   ],
   "source": [
    "calc_out(14, 2, 2, 0)"
   ]
  },
  {
   "cell_type": "code",
   "execution_count": 31,
   "id": "53532d0c-a8b6-4572-a75e-abac48a5006d",
   "metadata": {},
   "outputs": [
    {
     "data": {
      "image/png": "[encoded data removed]",
      "text/plain": [
       "<Figure size 1200x200 with 10 Axes>"
      ]
     },
     "metadata": {},
     "output_type": "display_data"
    },
    {
     "name": "stdout",
     "output_type": "stream",
     "text": [
      "torch.Size([10, 64, 7, 7])\n"
     ]
    }
   ],
   "source": [
    "pool2 = nn.MaxPool2d((2,2), 2)\n",
    "\n",
    "x = pool2(x)\n",
    "display_image(x)\n",
    "print(x.shape)"
   ]
  },
  {
   "cell_type": "code",
   "execution_count": 33,
   "id": "75ada96a-e084-4348-ba43-cac3706cc577",
   "metadata": {},
   "outputs": [
    {
     "data": {
      "image/png": "[encoded data removed]",
      "text/plain": [
       "<Figure size 1200x200 with 64 Axes>"
      ]
     },
     "metadata": {},
     "output_type": "display_data"
    }
   ],
   "source": [
    "idx = 3\n",
    "feature_maps =  x[idx].view((1, 64, 7, 7)).detach().numpy()\n",
    "fig, axs = plt.subplots(1, 64, figsize=(12, 2))\n",
    "for i in range(64):\n",
    "    axs[i].imshow(feature_maps[0, i, :, :], vmin=0, vmax=1)\n",
    "    axs[i].axis('off')"
   ]
  },
  {
   "cell_type": "markdown",
   "id": "60418413-83fd-4c44-b508-40dfd1bd127d",
   "metadata": {},
   "source": [
    "<h4 style=\"font-family: Times New Roman\"><strong>Flatten</strong></h4>"
   ]
  },
  {
   "cell_type": "code",
   "execution_count": 35,
   "id": "41eeadaa-fe19-4014-827f-da2a9e6772e0",
   "metadata": {},
   "outputs": [],
   "source": [
    "flat = x.view((-1, 64*7*7))\n",
    "\n",
    "fcn1 = nn.Linear(64*7*7, 128)\n",
    "fcn2 = nn.Linear(128, 10)\n",
    "\n",
    "out = fcn1(flat)\n",
    "out = F.softmax(fcn2(out), dim=1)"
   ]
  },
  {
   "cell_type": "code",
   "execution_count": 36,
   "id": "46119b07-1e9c-4ace-a2d8-4e482dc6186c",
   "metadata": {},
   "outputs": [
    {
     "data": {
      "text/plain": [
       "[8, 4, 4, 4, 4, 4, 4, 8, 4, 4]"
      ]
     },
     "execution_count": 36,
     "metadata": {},
     "output_type": "execute_result"
    }
   ],
   "source": [
    "# prediction\n",
    "# assess the prediction\n",
    "[i.argmax().item() for i in out]"
   ]
  },
  {
   "cell_type": "code",
   "execution_count": 37,
   "id": "3c4bcace-bc50-4fa0-94f1-5f6ac9711ad6",
   "metadata": {},
   "outputs": [
    {
     "data": {
      "text/plain": [
       "[4, 8, 3, 5, 1, 8, 7, 3, 4, 7]"
      ]
     },
     "execution_count": 37,
     "metadata": {},
     "output_type": "execute_result"
    }
   ],
   "source": [
    "# true label\n",
    "[i.item() for i in labels]"
   ]
  },
  {
   "cell_type": "markdown",
   "id": "ca9e7ace-62f5-464d-9551-ab04a7a136f9",
   "metadata": {},
   "source": [
    "<p style=\"font-family:Times New Roman; text-align:justify; font-size:15px\">\n",
    "<strong>QUESTION:</strong> <br> Why is it that the true and the predicted value is very distant from each other?\n",
    "</p>"
   ]
  },
  {
   "cell_type": "markdown",
   "id": "1bdfb8fa-448a-484a-b85c-ac34de96d927",
   "metadata": {},
   "source": [
    "<h4 style=\"font-family: Times New Roman\"><strong>Now let's put them all together</strong></h4>"
   ]
  },
  {
   "cell_type": "code",
   "execution_count": 40,
   "id": "230c9c16-907a-4b7c-89a0-c29624d71826",
   "metadata": {},
   "outputs": [],
   "source": [
    "class CNN(nn.Module):\n",
    "    def __init__(self):\n",
    "        super().__init__()\n",
    "        # just the initialization\n",
    "        self.conv1 = nn.Conv2d(1, 32, (3,3), 1, 1)\n",
    "        self.pool1 = nn.MaxPool2d((2,2), 2)\n",
    "        self.conv2 = nn.Conv2d(32, 64, (3,3), 1, 1)\n",
    "        self.pool2 = nn.MaxPool2d((2,2), 2)\n",
    "        self.fcn1 = nn.Linear(64*7*7, 128)\n",
    "        self.fcn2 = nn.Linear(128, 10)\n",
    "\n",
    "    def forward(self, x):\n",
    "        # seuential\n",
    "        x = F.relu(self.conv1(x))\n",
    "        x = self.pool1(x)\n",
    "        x = F.relu(self.conv2(x))\n",
    "        x = self.pool2(x)\n",
    "        x = x.view(-1, 64*7*7)\n",
    "        x = self.fcn1(x)\n",
    "        x = F.softmax(self.fcn2(x), dim=1)\n",
    "        \n",
    "        return x"
   ]
  },
  {
   "cell_type": "markdown",
   "id": "1f53e789-27d0-4316-9f0b-0a1287974e51",
   "metadata": {},
   "source": [
    "<h4 style=\"font-family: Times New Roman\"><strong>Instantiate the Class</strong></h4>"
   ]
  },
  {
   "cell_type": "code",
   "execution_count": 41,
   "id": "7369b5a5-59d8-4c61-9f74-7ec6cc63434c",
   "metadata": {},
   "outputs": [
    {
     "data": {
      "text/plain": [
       "CNN(\n",
       "  (conv1): Conv2d(1, 32, kernel_size=(3, 3), stride=(1, 1), padding=(1, 1))\n",
       "  (pool1): MaxPool2d(kernel_size=(2, 2), stride=2, padding=0, dilation=1, ceil_mode=False)\n",
       "  (conv2): Conv2d(32, 64, kernel_size=(3, 3), stride=(1, 1), padding=(1, 1))\n",
       "  (pool2): MaxPool2d(kernel_size=(2, 2), stride=2, padding=0, dilation=1, ceil_mode=False)\n",
       "  (fcn1): Linear(in_features=3136, out_features=128, bias=True)\n",
       "  (fcn2): Linear(in_features=128, out_features=10, bias=True)\n",
       ")"
      ]
     },
     "execution_count": 41,
     "metadata": {},
     "output_type": "execute_result"
    }
   ],
   "source": [
    "model = CNN()\n",
    "model"
   ]
  },
  {
   "cell_type": "markdown",
   "id": "83b35112-4da6-43ff-9844-6e47650c1770",
   "metadata": {},
   "source": [
    "<p style=\"font-family:Times New Roman; text-align:justify; font-size:15px\">Model Parameters: </p>\n",
    "\n",
    "$\\quad\\begin{align}(1\\times32\\times3\\times3)+32+(32\\times64\\times3\\times3)+64+(3136\\times128)+128+(128\\times10)+10 &=\\\\\n",
    "288+32+18432+64+401408+128+1280+10 &= 421,642\\end{align}$<br>"
   ]
  },
  {
   "cell_type": "code",
   "execution_count": 42,
   "id": "0d3a169a-6406-44d6-958f-2eb18916aed1",
   "metadata": {},
   "outputs": [
    {
     "name": "stdout",
     "output_type": "stream",
     "text": [
      "   288\n",
      "    32\n",
      " 18432\n",
      "    64\n",
      "401408\n",
      "   128\n",
      "  1280\n",
      "    10\n",
      "______\n",
      "421642\n"
     ]
    }
   ],
   "source": [
    "def count_parameters(model):\n",
    "    params = [p.numel() for p in model.parameters() if p.requires_grad]\n",
    "    for item in params:\n",
    "        print(f'{item:>6}')\n",
    "    print(f'______\\n{sum(params):>6}')\n",
    "\n",
    "count_parameters(model)"
   ]
  },
  {
   "cell_type": "markdown",
   "id": "5282608a-d097-4364-b046-c64df6c3b925",
   "metadata": {},
   "source": [
    "<h4 style=\"font-family: Times New Roman\"><strong>Define Criterion and Optimizer</strong></h4>"
   ]
  },
  {
   "cell_type": "code",
   "execution_count": 44,
   "id": "cce47f0a-0721-4b1b-a6cb-7cdd43de3375",
   "metadata": {},
   "outputs": [],
   "source": [
    "criterion = nn.CrossEntropyLoss()\n",
    "optimizer = torch.optim.Adam(model.parameters(), lr=0.001)"
   ]
  },
  {
   "cell_type": "code",
   "execution_count": 45,
   "id": "176e0a09-fb81-41fa-9472-44218c173237",
   "metadata": {},
   "outputs": [
    {
     "name": "stdout",
     "output_type": "stream",
     "text": [
      "cuda\n"
     ]
    }
   ],
   "source": [
    "# if your device has cuda enabled gpu, you can use it to accelerate the training process.\n",
    "device = torch.device('cuda' if torch.cuda.is_available() else 'cpu')\n",
    "\n",
    "print(device)\n",
    "\n",
    "model = model.to(device)"
   ]
  },
  {
   "cell_type": "markdown",
   "id": "a3ca794a-572f-4d8d-a590-3b491f0b1160",
   "metadata": {},
   "source": [
    "<h4 style=\"font-family: Times New Roman\"><strong>Let's walk through the training loop</strong></h4>\n",
    "<div class=\"alert alert-info\">\n",
    "    \n",
    "```python\n",
    "for e in range(epochs):\n",
    "    train_corr = 0\n",
    "    val_corr = 0\n",
    "```\n",
    "\n",
    "This will iterate `5` times as what is defined below. `train_corr` and `val_corr` serves as temporary place holders for correctly predicted train data and correctly predicted validation data. Hence, `train_corr` and `val_corr` will be re-initialized to `0` again if an entire epoch is done.<br>\n",
    "\n",
    "```python\n",
    "    for train_b, (x_train, y_train) in tqdm(enumerate(train_loader)):\n",
    "        train_b += 1\n",
    "        x_train = x_train.to(device)\n",
    "        y_train = y_train.to(device)\n",
    "```\n",
    "\n",
    "The second loop (nested loop) iterates over the `train_loader`. A single iteration of the `train_loader` is equal to `1` batch of features and targets, our batch size is 10, therefore in every iteration of the `train_loader` we are processing `10` instances. The entire training set or the `len(train_loader.dataset)` is `50,000`. Therefore, to finish an entire epoch, we need to process `5000` batches with a batch size of `10` (5000 x 10 = 50,000).<br>\n",
    "\n",
    "\n",
    "**NOTE:**\n",
    "When an iterable object is wrapped around an `enumerate` function, the output will return an index for each iterated values. `train_b` is the number of batches that has been processed.\n",
    "\n",
    "The `to()` functions next to the `x_train` and `y_train` are simply there to move the data into the available computing device. Remember that you need to move the `model` as well to the available device.<br>\n",
    "\n",
    "**OUTPUT:**\n",
    "\n",
    "`x_train.shape` = `torch.Size([10, 1, 28, 28])`\n",
    "\n",
    "`y_train.shape` = `torch.Size([10])`\n",
    "\n",
    "```python\n",
    "        train_pred = model(x_train)\n",
    "        train_loss = criterion(train_pred, y_train)\n",
    "\n",
    "        train_pred_vec = torch.max(train_pred.data, 1)[1]\n",
    "        train_corr += (train_pred_vec == y_train).sum()\n",
    "```\n",
    "`train_pred` represents the model's predictions for the current batch. The shape of train_pred is `torch.Size([10, 10])`. Each row in `train_pred` corresponds to an instance in the batch, and each column represents a class. The values in each row indicate the model's estimated probabilities or scores for each class for that instance. <br>\n",
    "`train_loss` is a scalar value of the error that was calculated from that particular batch. <br>\n",
    "`train_pred_vec` is a vector that contained the predicted labels of the current batch. The values are integer that ranges from 0 to 9. `train_pred_vec.shape` is `torch.Size([10])`, the values represents each predicted label of each instance. <br>\n",
    "`train_corr` performs comparison operation to check how many samples in the batch was correctly predicted, the value of the `train_corr` will be inceremented, but will be re-initialized back to 0 when an entire epoch is done.<br>\n",
    "\n",
    "```python\n",
    "        # Update parameters\n",
    "        optimizer.zero_grad()\n",
    "        train_loss.backward()\n",
    "        optimizer.step()\n",
    "```\n",
    "We need to update the parameters for every batch that passes in every epoch, we can do this by applying `zero_grad()` to the optimizer, this will clear the gradients for the next batch, if we don't do that, the gradients will accumulate for every batch for the entire epoch. <br>\n",
    "\n",
    "`train_loss.backward()` is used to compute the gradients of the loss with respect to the model's parameters during the backward pass of the training process. It's a fundamental step in the training loop of a neural network.<br>\n",
    "\n",
    "`optimizer.step()` is a method used to update the parameters (weights and biases) of a neural network model during the training process. It is called after the gradients of the model's parameters have been computed during the backward pass.\n",
    "\n",
    "```python\n",
    "        if train_b % 1250 == 0:\n",
    "            print(f\"epoch: {e+1:2} | batch: {train_b:4} | instances: [{train_b*batch_size:6} / {len(train_loader)  * batch_size}] | loss: {train_loss.item()}\")\n",
    "            print(f\"✅{train_corr.item()} of {train_b*batch_size:2} | accuracy: {round(((train_corr.item() / (train_b*batch_size))) * 100 , 3)}%\")\n",
    "```\n",
    "This prints training progress information during each batch iteration in a concise format. It displays the current epoch, batch number, the number of processed instances, the loss, and the accuracy achieved up to that point in training.\n",
    "\n",
    "```python\n",
    "        train_correct.append(train_corr.item())\n",
    "        train_losses.append(train_loss.item())\n",
    "```\n",
    "Appends current the batch's `train_corr` and `train_loss` on the empty lists outside the epoch.\n",
    "\n",
    "```python\n",
    "    with torch.no_grad():\n",
    "        for val_b, (x_val, y_val) in enumerate(val_loader):\n",
    "            val_b += 1\n",
    "            \n",
    "            x_val = x_val.to(device)\n",
    "            y_val = y_val.to(device)\n",
    "\n",
    "            val_pred = model(x_val)\n",
    "            val_pred_vec = torch.max(val_pred.data, 1)[1]\n",
    "            val_corr += (val_pred_vec == y_val).sum()\n",
    "\n",
    "            val_loss = criterion(val_pred, y_val)\n",
    "            val_correct.append(val_corr.item())\n",
    "            val_losses.append(val_loss.item())\n",
    "            \n",
    "            val_acc = val_corr.item() / (len(val_loader) * batch_size)\n",
    "            \n",
    "        if val_acc > best_acc:\n",
    "            best_acc = val_acc\n",
    "            torch.save(model.state_dict(), f\"model/best_{model._get_name()}.pth\")\n",
    "            print(f\"\\t📁New best model saved! | accuracy: {best_acc*100}%\")\n",
    "    \n",
    "    train_epoch_acc = train_corr.item() / (batch_size * len(train_loader))\n",
    "    val_epoch_acc = val_corr.item() / (batch_size * len(val_loader))\n",
    "    \n",
    "    train_accs.append(train_epoch_acc)\n",
    "    val_accs.append(val_epoch_acc)\n",
    "\n",
    "print(f'\\nDuration: {time.time() - start_time:.0f} seconds')\n",
    "```\n",
    "This part of the code performs the evaluation of the trained model for every epoch, the code is quite similar to the training process but without the updating of parameters. The code also have features of saving the `state_dict` (trained parameters) of the model with best accuracy.\n",
    "\n",
    "\n",
    "\n",
    "\n",
    "\n",
    "</div>"
   ]
  },
  {
   "cell_type": "code",
   "execution_count": 46,
   "id": "09117685-0000-453f-98ee-cdaf5224a943",
   "metadata": {},
   "outputs": [
    {
     "data": {
      "application/vnd.jupyter.widget-view+json": {
       "model_id": "3bc8dd8b3937498eba3366e7556fc3a9",
       "version_major": 2,
       "version_minor": 0
      },
      "text/plain": [
       "0it [00:00, ?it/s]"
      ]
     },
     "metadata": {},
     "output_type": "display_data"
    },
    {
     "name": "stdout",
     "output_type": "stream",
     "text": [
      "epoch:  1 | batch: 1250 | instances: [ 12500 / 48000] | loss: 1.5471436977386475\n",
      "✅10995 of 12500 | accuracy: 87.96%\n",
      "epoch:  1 | batch: 2500 | instances: [ 25000 / 48000] | loss: 1.561285138130188\n",
      "✅22813 of 25000 | accuracy: 91.252%\n",
      "epoch:  1 | batch: 3750 | instances: [ 37500 / 48000] | loss: 1.464577078819275\n",
      "✅34775 of 37500 | accuracy: 92.733%\n",
      "\t📁New best model saved! | accuracy: 95.975%\n"
     ]
    },
    {
     "data": {
      "application/vnd.jupyter.widget-view+json": {
       "model_id": "13c70af206d1485bad21b424f8b48fa3",
       "version_major": 2,
       "version_minor": 0
      },
      "text/plain": [
       "0it [00:00, ?it/s]"
      ]
     },
     "metadata": {},
     "output_type": "display_data"
    },
    {
     "name": "stdout",
     "output_type": "stream",
     "text": [
      "epoch:  2 | batch: 1250 | instances: [ 12500 / 48000] | loss: 1.4611502885818481\n",
      "✅12080 of 12500 | accuracy: 96.64%\n",
      "epoch:  2 | batch: 2500 | instances: [ 25000 / 48000] | loss: 1.5607588291168213\n",
      "✅24202 of 25000 | accuracy: 96.808%\n",
      "epoch:  2 | batch: 3750 | instances: [ 37500 / 48000] | loss: 1.4611502885818481\n",
      "✅36297 of 37500 | accuracy: 96.792%\n",
      "\t📁New best model saved! | accuracy: 96.55833333333334%\n"
     ]
    },
    {
     "data": {
      "application/vnd.jupyter.widget-view+json": {
       "model_id": "267d451dbef647ec8066ae14706cbcec",
       "version_major": 2,
       "version_minor": 0
      },
      "text/plain": [
       "0it [00:00, ?it/s]"
      ]
     },
     "metadata": {},
     "output_type": "display_data"
    },
    {
     "name": "stdout",
     "output_type": "stream",
     "text": [
      "epoch:  3 | batch: 1250 | instances: [ 12500 / 48000] | loss: 1.5611584186553955\n",
      "✅12088 of 12500 | accuracy: 96.704%\n",
      "epoch:  3 | batch: 2500 | instances: [ 25000 / 48000] | loss: 1.4611502885818481\n",
      "✅24245 of 25000 | accuracy: 96.98%\n",
      "epoch:  3 | batch: 3750 | instances: [ 37500 / 48000] | loss: 1.4611502885818481\n",
      "✅36394 of 37500 | accuracy: 97.051%\n",
      "\t📁New best model saved! | accuracy: 97.58333333333333%\n"
     ]
    },
    {
     "data": {
      "application/vnd.jupyter.widget-view+json": {
       "model_id": "59a6ac2b70014535b1c9a947f1b2244f",
       "version_major": 2,
       "version_minor": 0
      },
      "text/plain": [
       "0it [00:00, ?it/s]"
      ]
     },
     "metadata": {},
     "output_type": "display_data"
    },
    {
     "name": "stdout",
     "output_type": "stream",
     "text": [
      "epoch:  4 | batch: 1250 | instances: [ 12500 / 48000] | loss: 1.6611244678497314\n",
      "✅12135 of 12500 | accuracy: 97.08%\n",
      "epoch:  4 | batch: 2500 | instances: [ 25000 / 48000] | loss: 1.4611502885818481\n",
      "✅24257 of 25000 | accuracy: 97.028%\n",
      "epoch:  4 | batch: 3750 | instances: [ 37500 / 48000] | loss: 1.4611502885818481\n",
      "✅36361 of 37500 | accuracy: 96.963%\n"
     ]
    },
    {
     "data": {
      "application/vnd.jupyter.widget-view+json": {
       "model_id": "08cd6b533dbf400ea51efa2fa4df8bad",
       "version_major": 2,
       "version_minor": 0
      },
      "text/plain": [
       "0it [00:00, ?it/s]"
      ]
     },
     "metadata": {},
     "output_type": "display_data"
    },
    {
     "name": "stdout",
     "output_type": "stream",
     "text": [
      "epoch:  5 | batch: 1250 | instances: [ 12500 / 48000] | loss: 1.4611502885818481\n",
      "✅12184 of 12500 | accuracy: 97.472%\n",
      "epoch:  5 | batch: 2500 | instances: [ 25000 / 48000] | loss: 1.4611502885818481\n",
      "✅24327 of 25000 | accuracy: 97.308%\n",
      "epoch:  5 | batch: 3750 | instances: [ 37500 / 48000] | loss: 1.4611502885818481\n",
      "✅36528 of 37500 | accuracy: 97.408%\n",
      "\n",
      "Duration: 192 seconds\n"
     ]
    }
   ],
   "source": [
    "set_seed(42)\n",
    "epochs = 5\n",
    "start_time = time.time()\n",
    "best_acc = 0.0\n",
    "\n",
    "train_correct = []\n",
    "train_losses = []\n",
    "train_accs = []\n",
    "\n",
    "val_correct = []\n",
    "val_losses = []\n",
    "val_accs = []\n",
    "\n",
    "for e in range(epochs):\n",
    "    train_corr = 0\n",
    "    val_corr = 0\n",
    "    \n",
    "    for train_b, (x_train, y_train) in tqdm(enumerate(train_loader)):\n",
    "        train_b += 1\n",
    "        x_train = x_train.to(device)\n",
    "        y_train = y_train.to(device)\n",
    "\n",
    "        train_pred = model(x_train)\n",
    "        train_loss = criterion(train_pred, y_train)\n",
    "\n",
    "        train_pred_vec = torch.max(train_pred.data, 1)[1] # prediction vector\n",
    "        train_corr += (train_pred_vec == y_train).sum()\n",
    "\n",
    "        # Update parameters\n",
    "        optimizer.zero_grad()\n",
    "        train_loss.backward()\n",
    "        optimizer.step()\n",
    "\n",
    "        if train_b % 1250 == 0:\n",
    "            print(f\"epoch: {e+1:2} | batch: {train_b:4} | instances: [{train_b*batch_size:6} / {len(train_loader)  * batch_size}] | loss: {train_loss.item()}\")\n",
    "            print(f\"✅{train_corr.item()} of {train_b*batch_size:2} | accuracy: {round(((train_corr.item() / (train_b*batch_size))) * 100 , 3)}%\")\n",
    "\n",
    "        train_correct.append(train_corr.item())\n",
    "        train_losses.append(train_loss.item())\n",
    "\n",
    "    with torch.no_grad():\n",
    "        for val_b, (x_val, y_val) in enumerate(val_loader):\n",
    "            val_b += 1\n",
    "            \n",
    "            x_val = x_val.to(device)\n",
    "            y_val = y_val.to(device)\n",
    "\n",
    "            val_pred = model(x_val)\n",
    "            val_pred_vec = torch.max(val_pred.data, 1)[1]\n",
    "            val_corr += (val_pred_vec == y_val).sum()\n",
    "\n",
    "            val_loss = criterion(val_pred, y_val)\n",
    "            val_correct.append(val_corr.item())\n",
    "            val_losses.append(val_loss.item())\n",
    "            \n",
    "            val_acc = val_corr.item() / (len(val_loader) * batch_size)\n",
    "            \n",
    "        if val_acc > best_acc:\n",
    "            best_acc = val_acc\n",
    "            torch.save(model.state_dict(), f\"model/best_{model._get_name()}.pth\")\n",
    "            print(f\"\\t📁New best model saved! | accuracy: {best_acc*100}%\")\n",
    "    \n",
    "    train_epoch_acc = train_corr.item() / (batch_size * len(train_loader))\n",
    "    val_epoch_acc = val_corr.item() / (batch_size * len(val_loader))\n",
    "    \n",
    "    train_accs.append(train_epoch_acc)\n",
    "    val_accs.append(val_epoch_acc)\n",
    "\n",
    "print(f'\\nDuration: {time.time() - start_time:.0f} seconds')"
   ]
  },
  {
   "cell_type": "code",
   "execution_count": 47,
   "id": "377b46da-2b26-45f9-8a95-d19adf3cff27",
   "metadata": {},
   "outputs": [
    {
     "data": {
      "image/png": "[encoded data removed]",
      "text/plain": [
       "<Figure size 500x200 with 1 Axes>"
      ]
     },
     "metadata": {},
     "output_type": "display_data"
    }
   ],
   "source": [
    "plt.figure(figsize=(5,2))\n",
    "plt.plot(train_accs, label=\"Train\")\n",
    "plt.plot(val_accs, label=\"Validation\")\n",
    "plt.xticks(ticks=range(0,5), labels=list(range(1,6)))\n",
    "plt.xlabel(\"Epoch\")\n",
    "plt.ylabel(\"Accuracy\")\n",
    "plt.title(\"Accuracy per Epoch\")\n",
    "plt.legend()\n",
    "plt.show()"
   ]
  },
  {
   "cell_type": "code",
   "execution_count": 30,
   "id": "f1e2542e-a11b-4d4c-bc29-54a63a9a277a",
   "metadata": {},
   "outputs": [
    {
     "data": {
      "image/png": "[encoded data removed]",
      "text/plain": [
       "<Figure size 500x200 with 1 Axes>"
      ]
     },
     "metadata": {},
     "output_type": "display_data"
    }
   ],
   "source": [
    "plt.figure(figsize=(5,2))\n",
    "plt.plot([train_losses[i-1] for i in range(5000, len(train_losses)+1, 5000)], label=\"Train\")\n",
    "plt.plot([val_losses[i-1] for i in range(1000, len(val_losses)+1, 1000)], label=\"Validation\")\n",
    "plt.xticks(ticks=range(0,5), labels=list(range(1,6)))\n",
    "plt.xlabel(\"Epoch\")\n",
    "plt.ylabel(\"Loss\")\n",
    "plt.title(\"Loss per Epoch\")\n",
    "plt.legend()\n",
    "plt.show()"
   ]
  },
  {
   "cell_type": "markdown",
   "id": "929e0850-e362-4317-8d1c-beedff06587e",
   "metadata": {},
   "source": [
    "<h4 style=\"font-family: Times New Roman\"><strong>Testing</strong></h4>"
   ]
  },
  {
   "cell_type": "code",
   "execution_count": 48,
   "id": "1febc56d-5701-4263-aa5a-f4039a7919c2",
   "metadata": {},
   "outputs": [],
   "source": [
    "true_labels = []\n",
    "pred_labels = []\n",
    "\n",
    "with torch.no_grad():\n",
    "    for b, (x_test, y_test) in enumerate(test_loader):\n",
    "        \n",
    "        x_test = x_test.to(device)\n",
    "        y_test = y_test.to(device)\n",
    "        \n",
    "        test_pred = model(x_test)\n",
    "        test_pred_vec = torch.max(test_pred.data, 1)[1]\n",
    "\n",
    "        true_labels.append(y_test)\n",
    "        pred_labels.append(test_pred_vec)"
   ]
  },
  {
   "cell_type": "code",
   "execution_count": 49,
   "id": "07a40ed2-c0bc-4933-8d2c-638bd2521802",
   "metadata": {},
   "outputs": [],
   "source": [
    "true_labels = torch.cat(true_labels, dim=0)\n",
    "pred_labels = torch.cat(pred_labels, dim=0)"
   ]
  },
  {
   "cell_type": "markdown",
   "id": "68b56ba9-81fe-416a-b641-7c986da99410",
   "metadata": {},
   "source": [
    "<h4 style=\"font-family: Times New Roman\"><strong>Classification Matrix</strong></h4>"
   ]
  },
  {
   "cell_type": "code",
   "execution_count": 50,
   "id": "1b222fd6-4ce0-4595-9212-d9e9bff36efe",
   "metadata": {},
   "outputs": [
    {
     "data": {
      "text/plain": [
       "[0, 1, 2, 3, 4, 5, 6, 7, 8, 9]"
      ]
     },
     "execution_count": 50,
     "metadata": {},
     "output_type": "execute_result"
    }
   ],
   "source": [
    "[v for k,v in train_data.class_to_idx.items()]"
   ]
  },
  {
   "cell_type": "code",
   "execution_count": 51,
   "id": "a0c78873-72b2-4ac8-ae37-27b53e6d1a7b",
   "metadata": {},
   "outputs": [
    {
     "data": {
      "text/plain": [
       "tensor([7, 2, 1,  ..., 4, 5, 6], device='cuda:0')"
      ]
     },
     "execution_count": 51,
     "metadata": {},
     "output_type": "execute_result"
    }
   ],
   "source": [
    "true_labels"
   ]
  },
  {
   "cell_type": "code",
   "execution_count": 52,
   "id": "b8216aec-51cb-4810-8425-0e26a9ee730b",
   "metadata": {},
   "outputs": [
    {
     "data": {
      "text/plain": [
       "tensor([7, 2, 1,  ..., 4, 5, 6], device='cuda:0')"
      ]
     },
     "execution_count": 52,
     "metadata": {},
     "output_type": "execute_result"
    }
   ],
   "source": [
    "pred_labels"
   ]
  },
  {
   "cell_type": "code",
   "execution_count": 53,
   "id": "eb7c1bf4-3cf6-443f-822a-321bc73187ce",
   "metadata": {},
   "outputs": [
    {
     "name": "stdout",
     "output_type": "stream",
     "text": [
      "[  0   1   2   3   4   5   6   7   8   9] \n",
      "\n",
      "[[974   1   0   1   0   1   2   1   0   0]\n",
      " [  0 1128   1   2   1   1   1   1   0   0]\n",
      " [  7  11 989   9   1   0   0  11   2   2]\n",
      " [  0   0   0 1001   0   3   0   3   0   3]\n",
      " [  1   1   2   0 968   0   3   2   1   4]\n",
      " [  1   0   0   6   0 874  10   1   0   0]\n",
      " [  6   2   0   0   1   1 947   0   1   0]\n",
      " [  0   6   8   2   1   0   0 1003   1   7]\n",
      " [  4  15   1   1   3   3  15   3 899  30]\n",
      " [  5   4   0   4   5   5   0   5   0 981]]\n"
     ]
    }
   ],
   "source": [
    "np.set_printoptions(formatter=dict(int=lambda x: f'{x:3}'))\n",
    "print(np.array([v for k,v in train_data.class_to_idx.items()]), '\\n')\n",
    "print(confusion_matrix(true_labels.to('cpu'), pred_labels.to('cpu')))"
   ]
  },
  {
   "cell_type": "markdown",
   "id": "12658d83-0fe7-4a24-861f-501c6b9424ec",
   "metadata": {},
   "source": [
    "<h4 style=\"font-family: Times New Roman\"><strong>Let's assess the misses</strong></h4>"
   ]
  },
  {
   "cell_type": "code",
   "execution_count": 54,
   "id": "c234ca41-fa08-415d-afab-604130cfb673",
   "metadata": {},
   "outputs": [
    {
     "data": {
      "text/plain": [
       "tensor([7, 2, 1,  ..., 4, 5, 6], device='cuda:0')"
      ]
     },
     "execution_count": 54,
     "metadata": {},
     "output_type": "execute_result"
    }
   ],
   "source": [
    "true_labels"
   ]
  },
  {
   "cell_type": "code",
   "execution_count": 55,
   "id": "1d1bcac7-dc92-47d5-afd4-86d633ffd488",
   "metadata": {},
   "outputs": [
    {
     "data": {
      "text/plain": [
       "236"
      ]
     },
     "execution_count": 55,
     "metadata": {},
     "output_type": "execute_result"
    }
   ],
   "source": [
    "misses = np.array([])\n",
    "missed_label = np.array([])\n",
    "\n",
    "for i in range(len(pred_labels.to('cpu'))):\n",
    "    if pred_labels[i] != true_labels.to('cpu')[i]:\n",
    "        misses = np.append(misses,i).astype('int64')\n",
    "        missed_label = np.append(missed_label, true_labels.to('cpu')[i]).astype('int64')\n",
    "\n",
    "len(misses)"
   ]
  },
  {
   "cell_type": "code",
   "execution_count": 57,
   "id": "db021519-e6f2-488d-aff9-66e074eb6d07",
   "metadata": {},
   "outputs": [
    {
     "data": {
      "image/png": "[encoded data removed]",
      "text/plain": [
       "<Figure size 1200x200 with 10 Axes>"
      ]
     },
     "metadata": {},
     "output_type": "display_data"
    }
   ],
   "source": [
    "wrong = [pred_labels[i].item() for i in misses[:10]]\n",
    "missed_images = [test_loader.dataset[j][0] for j in [i for i in misses[:10]]]\n",
    "fig, axs = plt.subplots(1, len(missed_images), figsize=(12, 2))\n",
    "\n",
    "c = 0\n",
    "for i in missed_images:\n",
    "    axs[c].imshow(i.view(28, 28), vmin=0, vmax=1)\n",
    "    axs[c].axis('off')\n",
    "    axs[c].set_title(f\"{missed_label[c]} as {wrong[c]}\")\n",
    "    c += 1\n",
    "plt.show()"
   ]
  },
  {
   "cell_type": "markdown",
   "id": "d94068ee-5076-4643-9805-cde86879c57e",
   "metadata": {},
   "source": [
    "<div class=\"alert alert-block alert-success\" style=\"font-family: Times New Roman\">\n",
    "    <h4><strong>Laboratory Activty</strong></h4>\n",
    "\n",
    "<p style=\"font-family:Times New Roman; text-align:justify; font-size:15px\">\n",
    "    <b>Instruction:</b> Convert the following CNN architecture diagram into a PyTorch CNN Architecture.\n",
    "</p>\n",
    "\n",
    "<center><img src=\"figures/quick_draw.png\" width=\"400px\"></center>\n",
    "</div>"
   ]
  },
  {
   "cell_type": "code",
   "execution_count": null,
   "id": "a646fbb0-4dd8-4b95-8408-3a7c25f96b57",
   "metadata": {},
   "outputs": [],
   "source": []
  }
 ],
 "metadata": {
  "kernelspec": {
   "display_name": "Python 3 (ipykernel)",
   "language": "python",
   "name": "python3"
  },
  "language_info": {
   "codemirror_mode": {
    "name": "ipython",
    "version": 3
   },
   "file_extension": ".py",
   "mimetype": "text/x-python",
   "name": "python",
   "nbconvert_exporter": "python",
   "pygments_lexer": "ipython3",
   "version": "3.12.4"
  },
  "widgets": {
   "application/vnd.jupyter.widget-state+json": {
    "state": {
     "07f1c32f58b243aa8746618b181d9a02": {
      "model_module": "@jupyter-widgets/base",
      "model_module_version": "2.0.0",
      "model_name": "LayoutModel",
      "state": {}
     },
     "08cd6b533dbf400ea51efa2fa4df8bad": {
      "model_module": "@jupyter-widgets/controls",
      "model_module_version": "2.0.0",
      "model_name": "HBoxModel",
      "state": {
       "children": [
        "IPY_MODEL_f15ba2f35e644ea68520950786e6ebea",
        "IPY_MODEL_4dc6cc030ad4405dbdc62d8f02c077b6",
        "IPY_MODEL_0c7fad21b8c24e1ea5317400745531cc"
       ],
       "layout": "IPY_MODEL_099728fb81a44f7e84bc0b3271ba85de"
      }
     },
     "099728fb81a44f7e84bc0b3271ba85de": {
      "model_module": "@jupyter-widgets/base",
      "model_module_version": "2.0.0",
      "model_name": "LayoutModel",
      "state": {}
     },
     "0c7fad21b8c24e1ea5317400745531cc": {
      "model_module": "@jupyter-widgets/controls",
      "model_module_version": "2.0.0",
      "model_name": "HTMLModel",
      "state": {
       "layout": "IPY_MODEL_318273f8ae9f41fe8bfe0f36626cefd6",
       "style": "IPY_MODEL_c0e2d754fe524c689d3008c6ac64c056",
       "value": " 4800/? [00:35&lt;00:00, 155.04it/s]"
      }
     },
     "13c70af206d1485bad21b424f8b48fa3": {
      "model_module": "@jupyter-widgets/controls",
      "model_module_version": "2.0.0",
      "model_name": "HBoxModel",
      "state": {
       "children": [
        "IPY_MODEL_e6779dba3f8042b8940015c36ace5272",
        "IPY_MODEL_276c26e50b334b0f9b92f37153a66c9f",
        "IPY_MODEL_19a0b61c84554da7ba36cae55f534d50"
       ],
       "layout": "IPY_MODEL_8537e1756b124d09b208cf38b10d71eb"
      }
     },
     "19a0b61c84554da7ba36cae55f534d50": {
      "model_module": "@jupyter-widgets/controls",
      "model_module_version": "2.0.0",
      "model_name": "HTMLModel",
      "state": {
       "layout": "IPY_MODEL_7a23826355424cbc8393be17195e13e5",
       "style": "IPY_MODEL_a626c7669b2748c28fdb15782cb7ca7b",
       "value": " 4800/? [00:29&lt;00:00, 145.34it/s]"
      }
     },
     "1bb4a2e8eaae4071a5b116c78765ba1c": {
      "model_module": "@jupyter-widgets/base",
      "model_module_version": "2.0.0",
      "model_name": "LayoutModel",
      "state": {}
     },
     "267d451dbef647ec8066ae14706cbcec": {
      "model_module": "@jupyter-widgets/controls",
      "model_module_version": "2.0.0",
      "model_name": "HBoxModel",
      "state": {
       "children": [
        "IPY_MODEL_9ec948f4d9f144429562f2c3208b4704",
        "IPY_MODEL_9ad0ac52a95348a2999bfea27f209897",
        "IPY_MODEL_3315fdfb3fca49409b3c4feb929b9327"
       ],
       "layout": "IPY_MODEL_8494b7b29d354feba22024426c18f2b7"
      }
     },
     "276c26e50b334b0f9b92f37153a66c9f": {
      "model_module": "@jupyter-widgets/controls",
      "model_module_version": "2.0.0",
      "model_name": "FloatProgressModel",
      "state": {
       "bar_style": "success",
       "layout": "IPY_MODEL_cfc4cbd848f247c9b1e1fbf3ef85c549",
       "max": 1,
       "style": "IPY_MODEL_5841dd73376c42aca0973eaf4c91c6e1",
       "value": 1
      }
     },
     "318273f8ae9f41fe8bfe0f36626cefd6": {
      "model_module": "@jupyter-widgets/base",
      "model_module_version": "2.0.0",
      "model_name": "LayoutModel",
      "state": {}
     },
     "3315fdfb3fca49409b3c4feb929b9327": {
      "model_module": "@jupyter-widgets/controls",
      "model_module_version": "2.0.0",
      "model_name": "HTMLModel",
      "state": {
       "layout": "IPY_MODEL_1bb4a2e8eaae4071a5b116c78765ba1c",
       "style": "IPY_MODEL_bc07bb7ed35f4afd8d7550acf0419af8",
       "value": " 4800/? [00:35&lt;00:00, 138.57it/s]"
      }
     },
     "3bc8dd8b3937498eba3366e7556fc3a9": {
      "model_module": "@jupyter-widgets/controls",
      "model_module_version": "2.0.0",
      "model_name": "HBoxModel",
      "state": {
       "children": [
        "IPY_MODEL_6f9ed7193d5946cd9cb3a8b3447c2131",
        "IPY_MODEL_64cb2e2e9c674ab6893d932799e859fe",
        "IPY_MODEL_b5ac0c2d246d4eb79b6f1a5ff3aabd9a"
       ],
       "layout": "IPY_MODEL_f6fd2833eabc4e429d7e139b4638725f"
      }
     },
     "49ae8ca8dfbd47e4b30ae4f915b00672": {
      "model_module": "@jupyter-widgets/base",
      "model_module_version": "2.0.0",
      "model_name": "LayoutModel",
      "state": {
       "width": "20px"
      }
     },
     "4dc6cc030ad4405dbdc62d8f02c077b6": {
      "model_module": "@jupyter-widgets/controls",
      "model_module_version": "2.0.0",
      "model_name": "FloatProgressModel",
      "state": {
       "bar_style": "success",
       "layout": "IPY_MODEL_49ae8ca8dfbd47e4b30ae4f915b00672",
       "max": 1,
       "style": "IPY_MODEL_b658300057c44f7887c1041523993a51",
       "value": 1
      }
     },
     "540abbd7a7ce4a8282fb5d7330b2c7f9": {
      "model_module": "@jupyter-widgets/base",
      "model_module_version": "2.0.0",
      "model_name": "LayoutModel",
      "state": {}
     },
     "55d255cc626e47efb9e9b787468394be": {
      "model_module": "@jupyter-widgets/controls",
      "model_module_version": "2.0.0",
      "model_name": "HTMLStyleModel",
      "state": {
       "description_width": "",
       "font_size": null,
       "text_color": null
      }
     },
     "5841dd73376c42aca0973eaf4c91c6e1": {
      "model_module": "@jupyter-widgets/controls",
      "model_module_version": "2.0.0",
      "model_name": "ProgressStyleModel",
      "state": {
       "description_width": ""
      }
     },
     "59a6ac2b70014535b1c9a947f1b2244f": {
      "model_module": "@jupyter-widgets/controls",
      "model_module_version": "2.0.0",
      "model_name": "HBoxModel",
      "state": {
       "children": [
        "IPY_MODEL_b467f764e2c04881a4bf9d8d4aca1d3d",
        "IPY_MODEL_d6b6ecc15a7e4048993ec42435d11b2c",
        "IPY_MODEL_8b31e31b818b473b85b2fde77c72dead"
       ],
       "layout": "IPY_MODEL_c89b4259515f471fad0a89e83eec8ea0"
      }
     },
     "64cb2e2e9c674ab6893d932799e859fe": {
      "model_module": "@jupyter-widgets/controls",
      "model_module_version": "2.0.0",
      "model_name": "FloatProgressModel",
      "state": {
       "bar_style": "success",
       "layout": "IPY_MODEL_8bf221a959ce40e4b10648b0d1978a7c",
       "max": 1,
       "style": "IPY_MODEL_c490f7459bf64bdbb0d9165f88533734",
       "value": 1
      }
     },
     "6cd9dba913734d33afe3d62fb66e71c7": {
      "model_module": "@jupyter-widgets/base",
      "model_module_version": "2.0.0",
      "model_name": "LayoutModel",
      "state": {}
     },
     "6f9ed7193d5946cd9cb3a8b3447c2131": {
      "model_module": "@jupyter-widgets/controls",
      "model_module_version": "2.0.0",
      "model_name": "HTMLModel",
      "state": {
       "layout": "IPY_MODEL_81535f1b297443a9afbca03795383860",
       "style": "IPY_MODEL_55d255cc626e47efb9e9b787468394be"
      }
     },
     "70cdd022d07445dba4657105c00e9053": {
      "model_module": "@jupyter-widgets/controls",
      "model_module_version": "2.0.0",
      "model_name": "HTMLStyleModel",
      "state": {
       "description_width": "",
       "font_size": null,
       "text_color": null
      }
     },
     "77bee3c9501d48e5b6f5f7d15278d91e": {
      "model_module": "@jupyter-widgets/base",
      "model_module_version": "2.0.0",
      "model_name": "LayoutModel",
      "state": {}
     },
     "7a23826355424cbc8393be17195e13e5": {
      "model_module": "@jupyter-widgets/base",
      "model_module_version": "2.0.0",
      "model_name": "LayoutModel",
      "state": {}
     },
     "7c17640fa78148639e345c88cb20a7a1": {
      "model_module": "@jupyter-widgets/controls",
      "model_module_version": "2.0.0",
      "model_name": "ProgressStyleModel",
      "state": {
       "description_width": ""
      }
     },
     "81535f1b297443a9afbca03795383860": {
      "model_module": "@jupyter-widgets/base",
      "model_module_version": "2.0.0",
      "model_name": "LayoutModel",
      "state": {}
     },
     "8494b7b29d354feba22024426c18f2b7": {
      "model_module": "@jupyter-widgets/base",
      "model_module_version": "2.0.0",
      "model_name": "LayoutModel",
      "state": {}
     },
     "8537e1756b124d09b208cf38b10d71eb": {
      "model_module": "@jupyter-widgets/base",
      "model_module_version": "2.0.0",
      "model_name": "LayoutModel",
      "state": {}
     },
     "89076e08a3d246cdb56bb6ab1272aa03": {
      "model_module": "@jupyter-widgets/controls",
      "model_module_version": "2.0.0",
      "model_name": "HTMLStyleModel",
      "state": {
       "description_width": "",
       "font_size": null,
       "text_color": null
      }
     },
     "8b31e31b818b473b85b2fde77c72dead": {
      "model_module": "@jupyter-widgets/controls",
      "model_module_version": "2.0.0",
      "model_name": "HTMLModel",
      "state": {
       "layout": "IPY_MODEL_f0f3386842f540619c27acab7eecd70a",
       "style": "IPY_MODEL_70cdd022d07445dba4657105c00e9053",
       "value": " 4800/? [00:32&lt;00:00, 149.84it/s]"
      }
     },
     "8b40021800e14c8799c78115fc2c29e9": {
      "model_module": "@jupyter-widgets/controls",
      "model_module_version": "2.0.0",
      "model_name": "HTMLStyleModel",
      "state": {
       "description_width": "",
       "font_size": null,
       "text_color": null
      }
     },
     "8bc01096690d48f9bf4f53d042b92692": {
      "model_module": "@jupyter-widgets/base",
      "model_module_version": "2.0.0",
      "model_name": "LayoutModel",
      "state": {}
     },
     "8bf221a959ce40e4b10648b0d1978a7c": {
      "model_module": "@jupyter-widgets/base",
      "model_module_version": "2.0.0",
      "model_name": "LayoutModel",
      "state": {
       "width": "20px"
      }
     },
     "9ad0ac52a95348a2999bfea27f209897": {
      "model_module": "@jupyter-widgets/controls",
      "model_module_version": "2.0.0",
      "model_name": "FloatProgressModel",
      "state": {
       "bar_style": "success",
       "layout": "IPY_MODEL_b5699bd8f7ee46d1aafb0f478bebe3e0",
       "max": 1,
       "style": "IPY_MODEL_7c17640fa78148639e345c88cb20a7a1",
       "value": 1
      }
     },
     "9ec948f4d9f144429562f2c3208b4704": {
      "model_module": "@jupyter-widgets/controls",
      "model_module_version": "2.0.0",
      "model_name": "HTMLModel",
      "state": {
       "layout": "IPY_MODEL_540abbd7a7ce4a8282fb5d7330b2c7f9",
       "style": "IPY_MODEL_89076e08a3d246cdb56bb6ab1272aa03"
      }
     },
     "a626c7669b2748c28fdb15782cb7ca7b": {
      "model_module": "@jupyter-widgets/controls",
      "model_module_version": "2.0.0",
      "model_name": "HTMLStyleModel",
      "state": {
       "description_width": "",
       "font_size": null,
       "text_color": null
      }
     },
     "ab9920f75a524b0ba713fd8b25606744": {
      "model_module": "@jupyter-widgets/controls",
      "model_module_version": "2.0.0",
      "model_name": "HTMLStyleModel",
      "state": {
       "description_width": "",
       "font_size": null,
       "text_color": null
      }
     },
     "ad3d20025fda42688be14d7c6bd0bde8": {
      "model_module": "@jupyter-widgets/base",
      "model_module_version": "2.0.0",
      "model_name": "LayoutModel",
      "state": {
       "width": "20px"
      }
     },
     "b467f764e2c04881a4bf9d8d4aca1d3d": {
      "model_module": "@jupyter-widgets/controls",
      "model_module_version": "2.0.0",
      "model_name": "HTMLModel",
      "state": {
       "layout": "IPY_MODEL_07f1c32f58b243aa8746618b181d9a02",
       "style": "IPY_MODEL_fd4c00c3e44649a7ba5e385a70e57f43"
      }
     },
     "b5699bd8f7ee46d1aafb0f478bebe3e0": {
      "model_module": "@jupyter-widgets/base",
      "model_module_version": "2.0.0",
      "model_name": "LayoutModel",
      "state": {
       "width": "20px"
      }
     },
     "b5ac0c2d246d4eb79b6f1a5ff3aabd9a": {
      "model_module": "@jupyter-widgets/controls",
      "model_module_version": "2.0.0",
      "model_name": "HTMLModel",
      "state": {
       "layout": "IPY_MODEL_6cd9dba913734d33afe3d62fb66e71c7",
       "style": "IPY_MODEL_8b40021800e14c8799c78115fc2c29e9",
       "value": " 4800/? [00:44&lt;00:00, 142.97it/s]"
      }
     },
     "b658300057c44f7887c1041523993a51": {
      "model_module": "@jupyter-widgets/controls",
      "model_module_version": "2.0.0",
      "model_name": "ProgressStyleModel",
      "state": {
       "description_width": ""
      }
     },
     "b838b23947a14f2d9771811039758839": {
      "model_module": "@jupyter-widgets/controls",
      "model_module_version": "2.0.0",
      "model_name": "HTMLStyleModel",
      "state": {
       "description_width": "",
       "font_size": null,
       "text_color": null
      }
     },
     "bc07bb7ed35f4afd8d7550acf0419af8": {
      "model_module": "@jupyter-widgets/controls",
      "model_module_version": "2.0.0",
      "model_name": "HTMLStyleModel",
      "state": {
       "description_width": "",
       "font_size": null,
       "text_color": null
      }
     },
     "c0e2d754fe524c689d3008c6ac64c056": {
      "model_module": "@jupyter-widgets/controls",
      "model_module_version": "2.0.0",
      "model_name": "HTMLStyleModel",
      "state": {
       "description_width": "",
       "font_size": null,
       "text_color": null
      }
     },
     "c490f7459bf64bdbb0d9165f88533734": {
      "model_module": "@jupyter-widgets/controls",
      "model_module_version": "2.0.0",
      "model_name": "ProgressStyleModel",
      "state": {
       "description_width": ""
      }
     },
     "c89b4259515f471fad0a89e83eec8ea0": {
      "model_module": "@jupyter-widgets/base",
      "model_module_version": "2.0.0",
      "model_name": "LayoutModel",
      "state": {}
     },
     "cfc4cbd848f247c9b1e1fbf3ef85c549": {
      "model_module": "@jupyter-widgets/base",
      "model_module_version": "2.0.0",
      "model_name": "LayoutModel",
      "state": {
       "width": "20px"
      }
     },
     "d60f75f826f54f728580763a62e412ef": {
      "model_module": "@jupyter-widgets/controls",
      "model_module_version": "2.0.0",
      "model_name": "ProgressStyleModel",
      "state": {
       "description_width": ""
      }
     },
     "d6b6ecc15a7e4048993ec42435d11b2c": {
      "model_module": "@jupyter-widgets/controls",
      "model_module_version": "2.0.0",
      "model_name": "FloatProgressModel",
      "state": {
       "bar_style": "success",
       "layout": "IPY_MODEL_ad3d20025fda42688be14d7c6bd0bde8",
       "max": 1,
       "style": "IPY_MODEL_d60f75f826f54f728580763a62e412ef",
       "value": 1
      }
     },
     "e6779dba3f8042b8940015c36ace5272": {
      "model_module": "@jupyter-widgets/controls",
      "model_module_version": "2.0.0",
      "model_name": "HTMLModel",
      "state": {
       "layout": "IPY_MODEL_77bee3c9501d48e5b6f5f7d15278d91e",
       "style": "IPY_MODEL_b838b23947a14f2d9771811039758839"
      }
     },
     "f0f3386842f540619c27acab7eecd70a": {
      "model_module": "@jupyter-widgets/base",
      "model_module_version": "2.0.0",
      "model_name": "LayoutModel",
      "state": {}
     },
     "f15ba2f35e644ea68520950786e6ebea": {
      "model_module": "@jupyter-widgets/controls",
      "model_module_version": "2.0.0",
      "model_name": "HTMLModel",
      "state": {
       "layout": "IPY_MODEL_8bc01096690d48f9bf4f53d042b92692",
       "style": "IPY_MODEL_ab9920f75a524b0ba713fd8b25606744"
      }
     },
     "f6fd2833eabc4e429d7e139b4638725f": {
      "model_module": "@jupyter-widgets/base",
      "model_module_version": "2.0.0",
      "model_name": "LayoutModel",
      "state": {}
     },
     "fd4c00c3e44649a7ba5e385a70e57f43": {
      "model_module": "@jupyter-widgets/controls",
      "model_module_version": "2.0.0",
      "model_name": "HTMLStyleModel",
      "state": {
       "description_width": "",
       "font_size": null,
       "text_color": null
      }
     }
    },
    "version_major": 2,
    "version_minor": 0
   }
  }
 },
 "nbformat": 4,
 "nbformat_minor": 5
}
